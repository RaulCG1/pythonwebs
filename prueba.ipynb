{
 "cells": [
  {
   "cell_type": "code",
   "execution_count": 30,
   "metadata": {},
   "outputs": [],
   "source": [
    "import requests\n",
    "url=\"https://api.catboys.com/baka\"\n",
    "from io import BytesIO\n",
    "from PIL import Image\n",
    "respuesta = requests.get(url=url)\n",
    "\n",
    "\n",
    "resultado = respuesta.json()\n",
    "url_img = str(resultado[\"url\"])\n",
    "url_img = \"https://cdn.catboys.com/baka/baka_5.gif\"\n",
    "response = requests.get(url_img)\n",
    "imagen = Image.open(BytesIO(response.content))\n",
    "imagen.show()\n"
   ]
  }
 ],
 "metadata": {
  "kernelspec": {
   "display_name": "Python 3",
   "language": "python",
   "name": "python3"
  },
  "language_info": {
   "codemirror_mode": {
    "name": "ipython",
    "version": 3
   },
   "file_extension": ".py",
   "mimetype": "text/x-python",
   "name": "python",
   "nbconvert_exporter": "python",
   "pygments_lexer": "ipython3",
   "version": "3.11.2"
  },
  "orig_nbformat": 4
 },
 "nbformat": 4,
 "nbformat_minor": 2
}
